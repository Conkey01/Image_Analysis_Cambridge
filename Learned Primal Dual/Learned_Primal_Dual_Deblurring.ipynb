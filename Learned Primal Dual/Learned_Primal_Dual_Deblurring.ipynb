{
  "nbformat": 4,
  "nbformat_minor": 0,
  "metadata": {
    "colab": {
      "provenance": []
    },
    "kernelspec": {
      "name": "python3",
      "display_name": "Python 3"
    },
    "language_info": {
      "name": "python"
    }
  },
  "cells": [
    {
      "cell_type": "code",
      "source": [
        "datapath = \"./mnist_data\""
      ],
      "metadata": {
        "id": "FxOeYD38zSer"
      },
      "execution_count": 3,
      "outputs": []
    },
    {
      "cell_type": "code",
      "source": [
        "# Downloading MNIST data\n",
        "import matplotlib.pyplot as plt\n",
        "import torch\n",
        "import torch.nn as nn\n",
        "from torch.utils.data import Dataset, DataLoader\n",
        "from skimage.transform import radon\n",
        "import torchvision\n",
        "import os\n",
        "import pickle\n",
        "import random\n",
        "import numpy as np\n",
        "import gzip\n",
        "import torchvision.datasets as datasets\n",
        "from torchvision import transforms\n",
        "transform = torchvision.transforms.Compose([transforms.ToTensor()])\n",
        "device = torch.device(\"cuda\" if torch.cuda.is_available() else \"cpu\")\n",
        "full_trainset = datasets.MNIST(root=datapath, train=True, download=True, transform=transform)\n",
        "full_testset = datasets.MNIST(root=datapath, train=False, download=True, transform=transform)"
      ],
      "metadata": {
        "colab": {
          "base_uri": "https://localhost:8080/"
        },
        "id": "ownE3rdvzWya",
        "outputId": "2b2965b0-8243-4b6e-a626-ac99d5debcfe"
      },
      "execution_count": 4,
      "outputs": [
        {
          "output_type": "stream",
          "name": "stderr",
          "text": [
            "100%|██████████| 9.91M/9.91M [00:00<00:00, 17.8MB/s]\n",
            "100%|██████████| 28.9k/28.9k [00:00<00:00, 480kB/s]\n",
            "100%|██████████| 1.65M/1.65M [00:00<00:00, 4.44MB/s]\n",
            "100%|██████████| 4.54k/4.54k [00:00<00:00, 4.55MB/s]\n"
          ]
        }
      ]
    },
    {
      "cell_type": "code",
      "source": [
        "# Sample a small subset of the full training data\n",
        "random_sampler_train = torch.utils.data.RandomSampler(full_trainset, num_samples=2000)"
      ],
      "metadata": {
        "id": "6N_3OtDQ0mZ_"
      },
      "execution_count": 5,
      "outputs": []
    },
    {
      "cell_type": "code",
      "source": [
        "random_sampler_train = torch.utils.data.RandomSampler(full_testset, num_samples=2000)"
      ],
      "metadata": {
        "id": "gkT3c1pI1Kn1"
      },
      "execution_count": 6,
      "outputs": []
    },
    {
      "cell_type": "code",
      "source": [
        "# create the forward and the adjoint operators for the 2D blurring kernel (7*7 motion-blur kernel)\n",
        "### returns the forward operator and the adjoint given a kernel of size p-by-p\n",
        "def conv2d_block(kernel, channels, p, device, stride=1):\n",
        "  \"\"\"\n",
        "    Returns nn.Conv2d and nn.ConvTranspose2d modules from 2D kernel, such that\n",
        "    nn.ConvTranspose2d is the adjoint operator of nn.Conv2d\n",
        "    Arg:\n",
        "        kernel: 2D kernel, p x p is the kernel size\n",
        "        channels: number of image channels\n",
        "    \"\"\"\n",
        "  kernel_size = kernel.shape\n",
        "  kernel = kernel/kernel.sum()\n",
        "  kernel = kernel.repeat(channels, 1, 1, 1)\n",
        "  filter = nn.Conv2d(\n",
        "        in_channels=channels, out_channels=channels,\n",
        "        kernel_size=kernel_size, groups=channels, bias=False, stride=stride,\n",
        "        padding=p//2\n",
        "    )\n",
        "  filter.weight.data = kernel\n",
        "  filter.weight.requires_grad = False\n",
        "  filter_adjoint = nn.ConvTranspose2d(\n",
        "        in_channels=channels, out_channels=channels,\n",
        "        kernel_size=kernel_size, groups=channels, bias=False, stride=stride,\n",
        "        padding=p//2,\n",
        "    )\n",
        "  filter_adjoint.weight.data = kernel\n",
        "  filter_adjoint.weight.requires_grad = False\n",
        "  return filter.to(device), filter_adjoint.to(device)\n",
        "  # Motion blur operator\n",
        "p = 7 #kernel_size\n",
        "kernel_motion_blur = torch.ones((p, p)).type(torch.FloatTensor).to(device)\n",
        "#forward, forward_adjoint = conv2d_from_kernel(kernel_motion_blur, channels, device=device) fwd_op, adj_op = conv2d_block(kernel_motion_blur, channels = 1, p = 7, device=device)"
      ],
      "metadata": {
        "id": "N3UGn-ZV1ViR"
      },
      "execution_count": 16,
      "outputs": []
    },
    {
      "cell_type": "code",
      "source": [
        "# Display some blurry and some non blurry MNIST images\n",
        "import matplotlib.pyplot as plt\n",
        "from torch.utils.data import DataLoader\n",
        "import torchvision.transforms.functional as TF\n",
        "\n",
        "# Use small DataLoader from existing dataset\n",
        "small_loader = DataLoader(full_trainset, batch_size=8, shuffle=True)\n",
        "\n",
        "# Get one batch\n",
        "images, labels = next(iter(small_loader))\n",
        "\n",
        "# Apply simple blur (Gaussian) to images\n",
        "blurred_images = TF.gaussian_blur(images, kernel_size=5)\n",
        "\n",
        "# Plot original and blurred images\n",
        "fig, axs = plt.subplots(2, 8, figsize=(16, 4))\n",
        "\n",
        "for i in range(8):\n",
        "    axs[0, i].imshow(images[i][0], cmap='gray')\n",
        "    axs[0, i].set_title(f\"True: {labels[i].item()}\")\n",
        "    axs[0, i].axis('off')\n",
        "\n",
        "    axs[1, i].imshow(blurred_images[i][0], cmap='gray')\n",
        "    axs[1, i].set_title(\"Blurry\")\n",
        "    axs[1, i].axis('off')\n",
        "\n",
        "plt.suptitle(\"Top: Original MNIST | Bottom: Blurred\")\n",
        "plt.tight_layout()\n",
        "plt.show()\n"
      ],
      "metadata": {
        "colab": {
          "base_uri": "https://localhost:8080/",
          "height": 220
        },
        "id": "T_3MaBhu6yAs",
        "outputId": "1591857e-ce81-4c03-aabb-2828f6f39422"
      },
      "execution_count": 17,
      "outputs": [
        {
          "output_type": "display_data",
          "data": {
            "text/plain": [
              "<Figure size 1600x400 with 16 Axes>"
            ],
            "image/png": "[encoded data removed]"
          },
          "metadata": {}
        }
      ]
    },
    {
      "cell_type": "code",
      "source": [
        "# Train learned primal-dual network, 5 iterations, we implement the primal and dual networks first\n",
        "class prox_net_dual(nn.Module):\n",
        "    def __init__(self, n_in_channels=3, n_out_channels=1, n_filters=32, kernel_size=5):\n",
        "        super(prox_net_dual, self).__init__()\n",
        "        self.pad = (kernel_size - 1) // 2\n",
        "        self.conv1 = nn.Conv2d(n_in_channels, n_filters, kernel_size=kernel_size, padding=self.pad)\n",
        "        self.conv2 = nn.Conv2d(n_filters, n_filters, kernel_size=kernel_size, padding=self.pad)\n",
        "        self.conv3 = nn.Conv2d(n_filters, n_out_channels, kernel_size=kernel_size, padding=self.pad)\n",
        "        self.act1 = nn.PReLU()\n",
        "        self.act2 = nn.PReLU()\n",
        "\n",
        "    def forward(self, h, y, z):\n",
        "        dh = torch.cat((h, y, z), dim=1)\n",
        "        dh = self.act1(self.conv1(dh))\n",
        "        dh = self.act2(self.conv2(dh))\n",
        "        dh = self.conv3(dh)\n",
        "        return h + dh\n",
        "\n",
        "class prox_net_primal(nn.Module):\n",
        "    def __init__(self, n_in_channels=2, n_out_channels=1, n_filters=32, kernel_size=5):\n",
        "        super(prox_net_primal, self).__init__()\n",
        "        self.pad = (kernel_size - 1) // 2\n",
        "        self.conv1 = nn.Conv2d(n_in_channels, n_filters, kernel_size=kernel_size, padding=self.pad)\n",
        "        self.conv2 = nn.Conv2d(n_filters, n_filters, kernel_size=kernel_size, padding=self.pad)\n",
        "        self.conv3 = nn.Conv2d(n_filters, n_out_channels, kernel_size=kernel_size, padding=self.pad)\n",
        "        self.act1 = nn.PReLU()\n",
        "        self.act2 = nn.PReLU()\n",
        "\n",
        "    def forward(self, x, u):\n",
        "        dx = torch.cat((x, u), dim=1)\n",
        "        dx = self.act1(self.conv1(dx))\n",
        "        dx = self.act2(self.conv2(dx))\n",
        "        dx = self.conv3(dx)\n",
        "        return x + dx\n"
      ],
      "metadata": {
        "id": "4AyhQz9y8uLE"
      },
      "execution_count": 41,
      "outputs": []
    },
    {
      "cell_type": "code",
      "source": [
        "# Learned primal dual implementation\n",
        "class LPD(nn.Module):\n",
        "    def __init__(self, fwd_op, adjoint_op, niter=5, sigma=0.01, tau=0.01):\n",
        "        super(LPD, self).__init__()\n",
        "        self.fwd_op = fwd_op\n",
        "        self.adj_op = adjoint_op\n",
        "        self.niter = niter\n",
        "        self.sigma = nn.Parameter(sigma * torch.ones(self.niter).to(device))\n",
        "        self.tau = nn.Parameter(tau * torch.ones(self.niter).to(device))\n",
        "\n",
        "        # Make sure each iteration has its own separate learnable networks\n",
        "        self.cnn_image_layers = nn.ModuleList([prox_net_primal() for _ in range(self.niter)])\n",
        "        self.cnn_data_layers = nn.ModuleList([prox_net_dual() for _ in range(self.niter)])\n",
        "\n",
        "    def forward(self, y, x_init):\n",
        "        x = x_init\n",
        "        h = torch.zeros_like(y)\n",
        "        for k in range(self.niter):\n",
        "            u = self.fwd_op(x)\n",
        "            z = h + self.sigma[k] * (u - y)\n",
        "            h = self.cnn_data_layers[k](h, y, z)\n",
        "\n",
        "            v = self.adj_op(h)\n",
        "            x = self.cnn_image_layers[k](x, v)\n",
        "        return x\n",
        "\n"
      ],
      "metadata": {
        "id": "K4MY1sQq-0LA"
      },
      "execution_count": 42,
      "outputs": []
    },
    {
      "cell_type": "code",
      "source": [
        "# model training\n",
        "from torch.utils.data import Subset\n",
        "\n",
        "# Use small subsets for faster training\n",
        "train_subset = Subset(full_trainset, list(range(1000)))  # First 1,000 samples\n",
        "test_subset = Subset(full_testset, list(range(200)))     # First 200 samples\n",
        "\n",
        "train_loader = DataLoader(train_subset, batch_size=32, shuffle=True)\n",
        "test_loader = DataLoader(test_subset, batch_size=32, shuffle=False)\n"
      ],
      "metadata": {
        "id": "SuJT9XnBD7SO"
      },
      "execution_count": 43,
      "outputs": []
    },
    {
      "cell_type": "code",
      "source": [
        "import torch.nn.functional as F\n",
        "\n",
        "def gaussian_blur(x, kernel_size=5, sigma=1.0):\n",
        "    # Apply blur per image in batch\n",
        "    blurred = torch.stack([TF.gaussian_blur(img, kernel_size=kernel_size, sigma=sigma) for img in x])\n",
        "    return blurred\n",
        "\n",
        "\n",
        "class ForwardOp:\n",
        "    def __call__(self, x):\n",
        "        return gaussian_blur(x)\n",
        "\n",
        "class AdjointOp:\n",
        "    def __call__(self, y):\n",
        "        # For symmetric kernels, forward == adjoint (approx)\n",
        "        return gaussian_blur(y)\n"
      ],
      "metadata": {
        "id": "EQDE7aeED8ti"
      },
      "execution_count": 48,
      "outputs": []
    },
    {
      "cell_type": "code",
      "source": [
        "fwd_op = ForwardOp()\n",
        "adj_op = AdjointOp()\n",
        "model = LPD(fwd_op, adj_op, niter=5).to(device)\n"
      ],
      "metadata": {
        "id": "uc4Xx8p6EAxM"
      },
      "execution_count": 49,
      "outputs": []
    },
    {
      "cell_type": "code",
      "source": [
        "criterion = nn.MSELoss()\n",
        "optimizer = torch.optim.Adam(model.parameters(), lr=1e-3)\n"
      ],
      "metadata": {
        "id": "toEY8wNVFEXZ"
      },
      "execution_count": 50,
      "outputs": []
    },
    {
      "cell_type": "code",
      "source": [
        "epochs = 5\n",
        "for epoch in range(epochs):\n",
        "    model.train()\n",
        "    running_loss = 0.0\n",
        "\n",
        "    for batch in train_loader:\n",
        "        imgs, _ = batch\n",
        "        imgs = imgs.to(device)\n",
        "\n",
        "        # Apply blur to create y (observation)\n",
        "        y = fwd_op(imgs)\n",
        "\n",
        "        # Initialize x (reconstruction guess)\n",
        "        x_init = torch.zeros_like(imgs)\n",
        "\n",
        "        # Forward pass\n",
        "        output = model(y, x_init)\n",
        "\n",
        "        loss = criterion(output, imgs)\n",
        "        running_loss += loss.item()\n",
        "\n",
        "        optimizer.zero_grad()\n",
        "        loss.backward()\n",
        "        optimizer.step()\n",
        "\n",
        "    avg_loss = running_loss / len(train_loader)\n",
        "    print(f\"Epoch {epoch+1}, Training Loss: {avg_loss:.4f}\")\n"
      ],
      "metadata": {
        "colab": {
          "base_uri": "https://localhost:8080/"
        },
        "id": "h2_g_H1VFO8O",
        "outputId": "1bd05c2b-8732-4c14-a082-44ba5aeb2165"
      },
      "execution_count": 51,
      "outputs": [
        {
          "output_type": "stream",
          "name": "stdout",
          "text": [
            "Epoch 1, Training Loss: 0.0378\n",
            "Epoch 2, Training Loss: 0.0072\n",
            "Epoch 3, Training Loss: 0.0043\n",
            "Epoch 4, Training Loss: 0.0032\n",
            "Epoch 5, Training Loss: 0.0026\n"
          ]
        }
      ]
    },
    {
      "cell_type": "code",
      "source": [
        "model.eval()\n",
        "mse_total = 0.0\n",
        "with torch.no_grad():\n",
        "    for batch in test_loader:\n",
        "        imgs, _ = batch\n",
        "        imgs = imgs.to(device)\n",
        "\n",
        "        y = fwd_op(imgs)\n",
        "        x_init = torch.zeros_like(imgs)\n",
        "        output = model(y, x_init)\n",
        "\n",
        "        mse_total += criterion(output, imgs).item()\n",
        "\n",
        "avg_mse = mse_total / len(test_loader)\n",
        "print(f\"Test MSE: {avg_mse:.4f}\")\n"
      ],
      "metadata": {
        "colab": {
          "base_uri": "https://localhost:8080/"
        },
        "id": "fNxuQI8HHJc2",
        "outputId": "95ebb73a-9ab1-4837-a949-763d7567b4d0"
      },
      "execution_count": 52,
      "outputs": [
        {
          "output_type": "stream",
          "name": "stdout",
          "text": [
            "Test MSE: 0.0023\n"
          ]
        }
      ]
    },
    {
      "cell_type": "code",
      "source": [],
      "metadata": {
        "id": "8RLebO4XHnQY"
      },
      "execution_count": null,
      "outputs": []
    }
  ]
}